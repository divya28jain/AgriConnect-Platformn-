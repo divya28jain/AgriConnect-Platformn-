{
 "cells": [
  {
   "cell_type": "code",
   "execution_count": 1,
   "id": "fad93ab4-b576-42e3-bd91-17f57c1b1672",
   "metadata": {},
   "outputs": [],
   "source": [
    "import pandas as pd"
   ]
  },
  {
   "cell_type": "code",
   "execution_count": 2,
   "id": "622159f1-5bb4-42df-aee9-55e30883a286",
   "metadata": {},
   "outputs": [],
   "source": [
    "df = pd.read_csv(\"crop_yield.csv\")"
   ]
  },
  {
   "cell_type": "code",
   "execution_count": 3,
   "id": "5c697a85-eca8-43e4-b2f3-74b6521f4725",
   "metadata": {},
   "outputs": [
    {
     "name": "stdout",
     "output_type": "stream",
     "text": [
      "           Crop  Crop_Year       Season  State     Area  Production  \\\n",
      "0      Arecanut       1997  Whole Year   Assam  73814.0       56708   \n",
      "1     Arhar/Tur       1997  Kharif       Assam   6637.0        4685   \n",
      "2   Castor seed       1997  Kharif       Assam    796.0          22   \n",
      "3      Coconut        1997  Whole Year   Assam  19656.0   126905000   \n",
      "4  Cotton(lint)       1997  Kharif       Assam   1739.0         794   \n",
      "\n",
      "   Annual_Rainfall  Fertilizer  Pesticide        Yield  \n",
      "0           2051.4  7024878.38   22882.34     0.796087  \n",
      "1           2051.4   631643.29    2057.47     0.710435  \n",
      "2           2051.4    75755.32     246.76     0.238333  \n",
      "3           2051.4  1870661.52    6093.36  5238.051739  \n",
      "4           2051.4   165500.63     539.09     0.420909  \n",
      "['Arecanut' 'Arhar/Tur' 'Castor seed' 'Coconut ' 'Cotton(lint)'\n",
      " 'Dry chillies' 'Gram' 'Jute' 'Linseed' 'Maize' 'Mesta' 'Niger seed'\n",
      " 'Onion' 'Other  Rabi pulses' 'Potato' 'Rapeseed &Mustard' 'Rice'\n",
      " 'Sesamum' 'Small millets' 'Sugarcane' 'Sweet potato' 'Tapioca' 'Tobacco'\n",
      " 'Turmeric' 'Wheat' 'Bajra' 'Black pepper' 'Cardamom' 'Coriander' 'Garlic'\n",
      " 'Ginger' 'Groundnut' 'Horse-gram' 'Jowar' 'Ragi' 'Cashewnut' 'Banana'\n",
      " 'Soyabean' 'Barley' 'Khesari' 'Masoor' 'Moong(Green Gram)'\n",
      " 'Other Kharif pulses' 'Safflower' 'Sannhamp' 'Sunflower' 'Urad'\n",
      " 'Peas & beans (Pulses)' 'other oilseeds' 'Other Cereals' 'Cowpea(Lobia)'\n",
      " 'Oilseeds total' 'Guar seed' 'Other Summer Pulses' 'Moth']\n"
     ]
    }
   ],
   "source": [
    "print(df.head())\n",
    "print(df['Crop'].unique())"
   ]
  },
  {
   "cell_type": "code",
   "execution_count": 4,
   "id": "ddb653d5-7ee4-40f4-834a-060f22b317d1",
   "metadata": {},
   "outputs": [],
   "source": [
    "market_price_dict = {\n",
    "    'Arecanut': 250000,        \n",
    "    'Arhar/Tur': 6200,\n",
    "    'Castor seed': 5300,      \n",
    "    'Coconut ': 11000,         \n",
    "    'Cotton(lint)': 52000,    \n",
    "}"
   ]
  },
  {
   "cell_type": "code",
   "execution_count": 5,
   "id": "64a218a5-456f-42ed-b838-4d0af38a2f2e",
   "metadata": {},
   "outputs": [],
   "source": [
    "cost_cultivation_dict = {\n",
    "    'Arecanut': 244365,         \n",
    "    'Arhar/Tur': 71370,\n",
    "    'Castor seed': 40000,\n",
    "    'Coconut ': 155836,\n",
    "    'Cotton(lint)': 82200,\n",
    "}"
   ]
  },
  {
   "cell_type": "code",
   "execution_count": 6,
   "id": "70cd0033-cbe8-4bdb-b353-0213c728fc63",
   "metadata": {},
   "outputs": [],
   "source": [
    "df['Market_Price'] = df['Crop'].map(market_price_dict)\n",
    "df['Cost_of_Cultivation'] = df['Crop'].map(cost_cultivation_dict)"
   ]
  },
  {
   "cell_type": "code",
   "execution_count": 7,
   "id": "002e80dc-fe71-4e1d-afef-9817eb52f337",
   "metadata": {},
   "outputs": [],
   "source": [
    "df['Revenue'] = df['Yield'] * df['Market_Price']"
   ]
  },
  {
   "cell_type": "code",
   "execution_count": 8,
   "id": "009b9d5e-451c-44fe-8ffa-6fedeaf375fc",
   "metadata": {},
   "outputs": [],
   "source": [
    "df['Profit'] = df['Revenue'] - df['Cost_of_Cultivation']"
   ]
  },
  {
   "cell_type": "code",
   "execution_count": 9,
   "id": "d0dbfe7f-9eb0-4dde-907d-aeb0d1880db6",
   "metadata": {},
   "outputs": [],
   "source": [
    "df['ROI'] = (df['Profit'] / df['Cost_of_Cultivation']) * 100"
   ]
  },
  {
   "cell_type": "code",
   "execution_count": 10,
   "id": "0dbe400a-c61b-49e4-ad16-46ae76353385",
   "metadata": {},
   "outputs": [],
   "source": [
    "df_clean = df.dropna(subset=['Market_Price', 'Cost_of_Cultivation', 'Revenue', 'ROI'])"
   ]
  },
  {
   "cell_type": "code",
   "execution_count": 11,
   "id": "f16497f8-95ee-42d6-80a6-ae96ad7ca61f",
   "metadata": {},
   "outputs": [
    {
     "name": "stdout",
     "output_type": "stream",
     "text": [
      "           Crop  Crop_Year       Season  State     Area  Production  \\\n",
      "0      Arecanut       1997  Whole Year   Assam  73814.0       56708   \n",
      "1     Arhar/Tur       1997  Kharif       Assam   6637.0        4685   \n",
      "2   Castor seed       1997  Kharif       Assam    796.0          22   \n",
      "3      Coconut        1997  Whole Year   Assam  19656.0   126905000   \n",
      "4  Cotton(lint)       1997  Kharif       Assam   1739.0         794   \n",
      "\n",
      "   Annual_Rainfall  Fertilizer  Pesticide        Yield  Market_Price  \\\n",
      "0           2051.4  7024878.38   22882.34     0.796087      250000.0   \n",
      "1           2051.4   631643.29    2057.47     0.710435        6200.0   \n",
      "2           2051.4    75755.32     246.76     0.238333        5300.0   \n",
      "3           2051.4  1870661.52    6093.36  5238.051739       11000.0   \n",
      "4           2051.4   165500.63     539.09     0.420909       52000.0   \n",
      "\n",
      "   Cost_of_Cultivation       Revenue        Profit           ROI  \n",
      "0             244365.0  1.990217e+05 -4.534326e+04    -18.555546  \n",
      "1              71370.0  4.404696e+03 -6.696530e+04    -93.828365  \n",
      "2              40000.0  1.263167e+03 -3.873683e+04    -96.842083  \n",
      "3             155836.0  5.761857e+07  5.746273e+07  36873.850156  \n",
      "4              82200.0  2.188727e+04 -6.031273e+04    -73.373148  \n"
     ]
    }
   ],
   "source": [
    "print(df_clean.head())"
   ]
  },
  {
   "cell_type": "code",
   "execution_count": 16,
   "id": "d1989b36-f3e4-4c98-92cd-556fca5ac121",
   "metadata": {},
   "outputs": [],
   "source": [
    "df_clean = df.dropna(subset=['ROI']).copy()"
   ]
  },
  {
   "cell_type": "code",
   "execution_count": 17,
   "id": "2adf4a1b-e7c5-41b8-a536-2ab574b86130",
   "metadata": {},
   "outputs": [],
   "source": [
    "from sklearn.preprocessing import LabelEncoder\n",
    "\n",
    "le_crop = LabelEncoder()\n",
    "df_clean['Crop_encoded'] = le_crop.fit_transform(df_clean['Crop'])\n",
    "\n",
    "le_state = LabelEncoder()\n",
    "df_clean['State_encoded'] = le_state.fit_transform(df_clean['State'])\n",
    "\n",
    "le_season = LabelEncoder()\n",
    "df_clean['Season_encoded'] = le_season.fit_transform(df_clean['Season'])\n"
   ]
  },
  {
   "cell_type": "code",
   "execution_count": null,
   "id": "1b29949b-4f46-487a-bfba-07f2799d358c",
   "metadata": {},
   "outputs": [],
   "source": []
  }
 ],
 "metadata": {
  "kernelspec": {
   "display_name": "Python 3 (ipykernel)",
   "language": "python",
   "name": "python3"
  },
  "language_info": {
   "codemirror_mode": {
    "name": "ipython",
    "version": 3
   },
   "file_extension": ".py",
   "mimetype": "text/x-python",
   "name": "python",
   "nbconvert_exporter": "python",
   "pygments_lexer": "ipython3",
   "version": "3.12.0"
  }
 },
 "nbformat": 4,
 "nbformat_minor": 5
}
