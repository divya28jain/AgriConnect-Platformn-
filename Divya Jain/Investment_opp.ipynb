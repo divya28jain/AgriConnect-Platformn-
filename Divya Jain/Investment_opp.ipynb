{
 "cells": [
  {
   "cell_type": "code",
   "execution_count": 1,
   "id": "39d76d7f-e056-4869-8cc6-b470439afcff",
   "metadata": {},
   "outputs": [
    {
     "name": "stdout",
     "output_type": "stream",
     "text": [
      "✅ Final result with original labels saved as 'final_agri_predictions.csv'\n",
      "✅ Model saved\n"
     ]
    }
   ],
   "source": [
    "import pandas as pd\n",
    "import joblib\n",
    "from sklearn.preprocessing import LabelEncoder\n",
    "from sklearn.model_selection import train_test_split\n",
    "from sklearn.ensemble import RandomForestClassifier\n",
    "from sklearn.metrics import classification_report, accuracy_score\n",
    "\n",
    "# Load dataset\n",
    "df = pd.read_excel(\"preprocessed_agri_investment_data.csv.xlsx\")\n",
    "\n",
    "# Keep a copy of the original (for human-readable output later)\n",
    "original_df = df.copy()\n",
    "\n",
    "# Encode categorical features\n",
    "label_encoders = {}\n",
    "for col in ['Crop_Name', 'State']:\n",
    "    le = LabelEncoder()\n",
    "    df[col + \"_encoded\"] = le.fit_transform(df[col])\n",
    "    label_encoders[col] = le\n",
    "\n",
    "# Encode the target variable\n",
    "target_encoder = LabelEncoder()\n",
    "df['Investment_Recommendation_encoded'] = target_encoder.fit_transform(df['Investment_Recommendation'])\n",
    "\n",
    "# Prepare features and target\n",
    "feature_cols = ['Crop_Name_encoded', 'State_encoded', 'Estimated_Revenue', 'Estimated_Profit',\n",
    "                'Calculated_ROI_%', 'Risk_Index']\n",
    "X = df[feature_cols]\n",
    "y = df['Investment_Recommendation_encoded']\n",
    "\n",
    "# Train-test split\n",
    "X_train, X_test, y_train, y_test = train_test_split(X, y, test_size=0.2, random_state=42)\n",
    "\n",
    "# Train model\n",
    "model = RandomForestClassifier(n_estimators=100, random_state=42)\n",
    "model.fit(X_train, y_train)\n",
    "\n",
    "# Predict\n",
    "y_pred = model.predict(X_test)\n",
    "\n",
    "# Decode predictions\n",
    "y_pred_labels = target_encoder.inverse_transform(y_pred)\n",
    "y_actual_labels = target_encoder.inverse_transform(y_test)\n",
    "\n",
    "# Match back with original values for interpretability\n",
    "result_df = X_test.copy()\n",
    "result_df['Actual_Label'] = y_actual_labels\n",
    "result_df['Predicted_Label'] = y_pred_labels\n",
    "\n",
    "# Add human-readable columns back from the original dataframe\n",
    "decoded_crop = label_encoders['Crop_Name'].inverse_transform(X_test['Crop_Name_encoded'])\n",
    "decoded_state = label_encoders['State'].inverse_transform(X_test['State_encoded'])\n",
    "result_df['Crop_Name'] = decoded_crop\n",
    "result_df['State'] = decoded_state\n",
    "\n",
    "# Reorder columns\n",
    "result_df = result_df[['Crop_Name', 'State', 'Estimated_Revenue', 'Estimated_Profit',\n",
    "                       'Calculated_ROI_%', 'Risk_Index', 'Actual_Label', 'Predicted_Label']]\n",
    "\n",
    "# Save to CSV\n",
    "result_df.to_csv(\"final_agri_predictions.csv\", index=False)\n",
    "print(\"✅ Final result with original labels saved as 'final_agri_predictions.csv'\")\n",
    "\n",
    "# Save the model\n",
    "joblib.dump(model, \"investment_model.pkl\")\n",
    "print(\"✅ Model saved\")\n"
   ]
  },
  {
   "cell_type": "code",
   "execution_count": 2,
   "id": "9ec9f106-315b-441c-b418-83391bb294bd",
   "metadata": {},
   "outputs": [
    {
     "name": "stdout",
     "output_type": "stream",
     "text": [
      "✅ Model Accuracy: 0.2507 (25.07%)\n"
     ]
    }
   ],
   "source": [
    "from sklearn.metrics import accuracy_score\n",
    "\n",
    "# y_test: True labels from the test set\n",
    "# y_pred: Predicted labels from the model\n",
    "accuracy = accuracy_score(y_test, y_pred)\n",
    "\n",
    "print(f\"✅ Model Accuracy: {accuracy:.4f} ({accuracy * 100:.2f}%)\")\n"
   ]
  },
  {
   "cell_type": "code",
   "execution_count": null,
   "id": "71c8c118-9bc7-4233-994b-508a4dbe3604",
   "metadata": {},
   "outputs": [],
   "source": []
  }
 ],
 "metadata": {
  "kernelspec": {
   "display_name": "Python 3 (ipykernel)",
   "language": "python",
   "name": "python3"
  },
  "language_info": {
   "codemirror_mode": {
    "name": "ipython",
    "version": 3
   },
   "file_extension": ".py",
   "mimetype": "text/x-python",
   "name": "python",
   "nbconvert_exporter": "python",
   "pygments_lexer": "ipython3",
   "version": "3.12.0"
  }
 },
 "nbformat": 4,
 "nbformat_minor": 5
}
